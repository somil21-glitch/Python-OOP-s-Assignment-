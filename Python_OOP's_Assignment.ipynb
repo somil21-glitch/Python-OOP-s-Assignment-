{
  "nbformat": 4,
  "nbformat_minor": 0,
  "metadata": {
    "colab": {
      "provenance": []
    },
    "kernelspec": {
      "name": "python3",
      "display_name": "Python 3"
    },
    "language_info": {
      "name": "python"
    }
  },
  "cells": [
    {
      "cell_type": "markdown",
      "source": [
        "PYTHON OOP'S QUESTIONS"
      ],
      "metadata": {
        "id": "4zeCOoz7jv6g"
      }
    },
    {
      "cell_type": "code",
      "source": [
        "#QUESTION 1.What is Object-Oriented Programming (OOP).\n",
        "\n",
        "'''Object-Oriented Programming (OOP) is a programming paradigm that uses \"objects\" – data structures consisting of data fields and methods – to design and structure software.'''\n",
        "\n",
        "\n"
      ],
      "metadata": {
        "colab": {
          "base_uri": "https://localhost:8080/",
          "height": 54
        },
        "id": "MBXoHJQhj6GU",
        "outputId": "c9b9ca68-1f34-4da3-9a9d-435ae1b2c38b"
      },
      "execution_count": 121,
      "outputs": [
        {
          "output_type": "execute_result",
          "data": {
            "text/plain": [
              "'Object-Oriented Programming (OOP) is a programming paradigm that uses \"objects\" – data structures consisting of data fields and methods – to design and structure software.'"
            ],
            "application/vnd.google.colaboratory.intrinsic+json": {
              "type": "string"
            }
          },
          "metadata": {},
          "execution_count": 121
        }
      ]
    },
    {
      "cell_type": "code",
      "source": [
        "#QUESTION 2.What is a class in OOP?\n",
        "\n",
        "'''\n",
        "In object-oriented programming, a class is a blueprint for creating objects.\n",
        "It defines a set of attributes (data) and methods (functions) that the objects\n",
        "created from it will have. Think of it like a template or a cookie cutter\n",
        "for creating objects.\n",
        "'''\n"
      ],
      "metadata": {
        "colab": {
          "base_uri": "https://localhost:8080/",
          "height": 54
        },
        "id": "u4SN2X42kBSe",
        "outputId": "2e489f48-5854-482b-e830-6536f6cdd978"
      },
      "execution_count": 122,
      "outputs": [
        {
          "output_type": "execute_result",
          "data": {
            "text/plain": [
              "'\\nIn object-oriented programming, a class is a blueprint for creating objects. \\nIt defines a set of attributes (data) and methods (functions) that the objects \\ncreated from it will have. Think of it like a template or a cookie cutter \\nfor creating objects.\\n'"
            ],
            "application/vnd.google.colaboratory.intrinsic+json": {
              "type": "string"
            }
          },
          "metadata": {},
          "execution_count": 122
        }
      ]
    },
    {
      "cell_type": "code",
      "source": [
        "#QUESTION 3.What is an object in OOP?\n",
        "\n",
        "'''\n",
        "In the context of OOP, an object is an instance of a class. Think of a class as the blueprint, and the object is the actual thing built from that blueprint.\n",
        "'''\n",
        "\n"
      ],
      "metadata": {
        "colab": {
          "base_uri": "https://localhost:8080/",
          "height": 54
        },
        "id": "p16d9N17kWod",
        "outputId": "1bcbf9af-b6d1-415d-cf04-e55a3c6f6273"
      },
      "execution_count": 123,
      "outputs": [
        {
          "output_type": "execute_result",
          "data": {
            "text/plain": [
              "'\\nIn the context of OOP, an object is an instance of a class. Think of a class as the blueprint, and the object is the actual thing built from that blueprint.\\n'"
            ],
            "application/vnd.google.colaboratory.intrinsic+json": {
              "type": "string"
            }
          },
          "metadata": {},
          "execution_count": 123
        }
      ]
    },
    {
      "cell_type": "code",
      "source": [
        "#QUESTION 4.What is the difference between abstraction and encapsulation?\n",
        "\n",
        "'''\n",
        "Abstraction: Hiding complex implementation details and showing only the essential information to the user. Like a car's steering wheel, you don't need to understand the complex mechanics of steering to use it.\n",
        "Encapsulation: Bundling data (attributes) and methods (functions that operate on the data) together within a class, protecting the data from unauthorized access or modification. Think of a capsule containing medicine – it holds the contents together and protects them.\n",
        "'''"
      ],
      "metadata": {
        "colab": {
          "base_uri": "https://localhost:8080/",
          "height": 90
        },
        "id": "WpGwVDjskaDF",
        "outputId": "32ad85de-3826-4703-aa37-2d81281130f4"
      },
      "execution_count": 124,
      "outputs": [
        {
          "output_type": "execute_result",
          "data": {
            "text/plain": [
              "\"\\nAbstraction: Hiding complex implementation details and showing only the essential information to the user. Like a car's steering wheel, you don't need to understand the complex mechanics of steering to use it.\\nEncapsulation: Bundling data (attributes) and methods (functions that operate on the data) together within a class, protecting the data from unauthorized access or modification. Think of a capsule containing medicine – it holds the contents together and protects them.\\n\""
            ],
            "application/vnd.google.colaboratory.intrinsic+json": {
              "type": "string"
            }
          },
          "metadata": {},
          "execution_count": 124
        }
      ]
    },
    {
      "cell_type": "code",
      "source": [
        "#QUESTION 5.What are dunder methods in Python?\n",
        "\n",
        "'''\n",
        "Dunder methods (also called magic methods or special methods) are methods in Python that have double underscores (__) before and after their names. These methods are not meant to be called directly but are triggered by specific actions or operations.\n",
        "'''\n",
        "\n"
      ],
      "metadata": {
        "colab": {
          "base_uri": "https://localhost:8080/",
          "height": 54
        },
        "id": "P_-NYeh3kaeE",
        "outputId": "016b4c40-a752-4834-a96a-72af272a9664"
      },
      "execution_count": 125,
      "outputs": [
        {
          "output_type": "execute_result",
          "data": {
            "text/plain": [
              "'\\nDunder methods (also called magic methods or special methods) are methods in Python that have double underscores (__) before and after their names. These methods are not meant to be called directly but are triggered by specific actions or operations.\\n'"
            ],
            "application/vnd.google.colaboratory.intrinsic+json": {
              "type": "string"
            }
          },
          "metadata": {},
          "execution_count": 125
        }
      ]
    },
    {
      "cell_type": "code",
      "source": [
        "#QUESTION 6.Explain the concept of inheritance in OOP.\n",
        "\n",
        "'''\n",
        "Inheritance is a fundamental principle in OOP where a new class (called the subclass or child class) can be created based on an existing class (called the superclass or parent class).\n",
        "'''\n",
        "\n"
      ],
      "metadata": {
        "id": "AXrP1AP3kb48"
      },
      "execution_count": 91,
      "outputs": []
    },
    {
      "cell_type": "code",
      "source": [
        "#QUESTION 7.What is polymorphism in OOP?\n",
        "\n",
        "'''\n",
        "Polymorphism, in the context of OOP, allows objects of different classes to be treated as objects of a common type. It's like having a single interface that can interact with different types of objects in a consistent way.\n",
        "'''\n"
      ],
      "metadata": {
        "colab": {
          "base_uri": "https://localhost:8080/",
          "height": 54
        },
        "id": "Wa8NLU91kcPB",
        "outputId": "fbb8cde7-4cd1-41eb-bf42-c61f6013c864"
      },
      "execution_count": 126,
      "outputs": [
        {
          "output_type": "execute_result",
          "data": {
            "text/plain": [
              "\"\\nPolymorphism, in the context of OOP, allows objects of different classes to be treated as objects of a common type. It's like having a single interface that can interact with different types of objects in a consistent way.\\n\""
            ],
            "application/vnd.google.colaboratory.intrinsic+json": {
              "type": "string"
            }
          },
          "metadata": {},
          "execution_count": 126
        }
      ]
    },
    {
      "cell_type": "code",
      "source": [
        "#QUESTION 8.How is encapsulation achieved in Python?\n",
        "\n",
        "'''\n",
        "In Python, encapsulation is achieved by using access modifiers to limit access to a class's variables and methods.\n",
        "'''\n"
      ],
      "metadata": {
        "colab": {
          "base_uri": "https://localhost:8080/",
          "height": 36
        },
        "id": "e4vVeH7Fkcjt",
        "outputId": "6c2175b3-36b1-475c-8f38-db668e5fbcd1"
      },
      "execution_count": 127,
      "outputs": [
        {
          "output_type": "execute_result",
          "data": {
            "text/plain": [
              "\"\\nIn Python, encapsulation is achieved by using access modifiers to limit access to a class's variables and methods.\\n\""
            ],
            "application/vnd.google.colaboratory.intrinsic+json": {
              "type": "string"
            }
          },
          "metadata": {},
          "execution_count": 127
        }
      ]
    },
    {
      "cell_type": "code",
      "source": [
        "#QUESTION 9.What is a constructor in Python?\n",
        "\n",
        "'''\n",
        "A constructor in Python is a special method called __init__ that's automatically executed when an object of a class is created. It's used to initialize the object's attributes.\n",
        "'''\n",
        "\n"
      ],
      "metadata": {
        "colab": {
          "base_uri": "https://localhost:8080/",
          "height": 54
        },
        "id": "ho5yqYlLkcyW",
        "outputId": "9a399488-6b5c-43a7-f603-28bca250362c"
      },
      "execution_count": 128,
      "outputs": [
        {
          "output_type": "execute_result",
          "data": {
            "text/plain": [
              "\"\\nA constructor in Python is a special method called __init__ that's automatically executed when an object of a class is created. It's used to initialize the object's attributes.\\n\""
            ],
            "application/vnd.google.colaboratory.intrinsic+json": {
              "type": "string"
            }
          },
          "metadata": {},
          "execution_count": 128
        }
      ]
    },
    {
      "cell_type": "code",
      "source": [
        "#QUESTION 10.What are class and static methods in Python?\n",
        "\n",
        "'''\n",
        "A class method takes cls as the first parameter while a static method needs no specific parameters. A class method can access or modify the class state while a static method can't access or modify it.\n",
        "'''"
      ],
      "metadata": {
        "id": "4t6NH-A-kc_U"
      },
      "execution_count": 95,
      "outputs": []
    },
    {
      "cell_type": "code",
      "source": [
        "#QUESTION 11.What is method overloading in Python?\n",
        "\n",
        "'''\n",
        "Method Overloading is a concept where you can define multiple methods with the same name within a class, but with different parameters.\n",
        "'''\n",
        "\n"
      ],
      "metadata": {
        "colab": {
          "base_uri": "https://localhost:8080/",
          "height": 36
        },
        "id": "6ski5NXmkdLG",
        "outputId": "32a0106b-c930-4f41-8d56-9f61afd5a549"
      },
      "execution_count": 129,
      "outputs": [
        {
          "output_type": "execute_result",
          "data": {
            "text/plain": [
              "'\\nMethod Overloading is a concept where you can define multiple methods with the same name within a class, but with different parameters. \\n'"
            ],
            "application/vnd.google.colaboratory.intrinsic+json": {
              "type": "string"
            }
          },
          "metadata": {},
          "execution_count": 129
        }
      ]
    },
    {
      "cell_type": "code",
      "source": [
        "#QUESTION 12. What is method overriding in OOP?\n",
        "\n",
        "'''\n",
        "Method Overloading is a concept where you can define multiple methods with the same name within a class, but with different parameters.\n",
        "'''"
      ],
      "metadata": {
        "colab": {
          "base_uri": "https://localhost:8080/",
          "height": 36
        },
        "id": "pTDgWefKkdW8",
        "outputId": "8741630b-640d-4499-babc-90d31e980c87"
      },
      "execution_count": 130,
      "outputs": [
        {
          "output_type": "execute_result",
          "data": {
            "text/plain": [
              "'\\nMethod Overloading is a concept where you can define multiple methods with the same name within a class, but with different parameters.\\n'"
            ],
            "application/vnd.google.colaboratory.intrinsic+json": {
              "type": "string"
            }
          },
          "metadata": {},
          "execution_count": 130
        }
      ]
    },
    {
      "cell_type": "code",
      "source": [
        "#QUESTION 13.What is a property decorator in Python?\n",
        "\n",
        "'''\n",
        "In Python, a property decorator is a built-in feature that allows you to define methods that behave like attributes. It provides a way to control how attributes are accessed, modified, and deleted.\n",
        "'''"
      ],
      "metadata": {
        "colab": {
          "base_uri": "https://localhost:8080/",
          "height": 54
        },
        "id": "Btswwosnkdid",
        "outputId": "aa9a65df-c718-44d0-9d8c-f51923f80f57"
      },
      "execution_count": 131,
      "outputs": [
        {
          "output_type": "execute_result",
          "data": {
            "text/plain": [
              "'\\nIn Python, a property decorator is a built-in feature that allows you to define methods that behave like attributes. It provides a way to control how attributes are accessed, modified, and deleted.\\n'"
            ],
            "application/vnd.google.colaboratory.intrinsic+json": {
              "type": "string"
            }
          },
          "metadata": {},
          "execution_count": 131
        }
      ]
    },
    {
      "cell_type": "code",
      "source": [
        "#QUESTION 14.Why is polymorphism important in OOP?\n",
        "\n",
        "'''\n",
        "Polymorphism promotes flexibility and code reusability. It enables you to write code that can work with objects of various types without needing to know their specific class beforehand. This makes your code more adaptable and easier to maintain.\n",
        "'''\n",
        "\n"
      ],
      "metadata": {
        "colab": {
          "base_uri": "https://localhost:8080/",
          "height": 54
        },
        "id": "WOWOOpvVkdsk",
        "outputId": "5be769cc-5c48-4173-b91b-59448483bc5f"
      },
      "execution_count": 132,
      "outputs": [
        {
          "output_type": "execute_result",
          "data": {
            "text/plain": [
              "'\\nPolymorphism promotes flexibility and code reusability. It enables you to write code that can work with objects of various types without needing to know their specific class beforehand. This makes your code more adaptable and easier to maintain.\\n'"
            ],
            "application/vnd.google.colaboratory.intrinsic+json": {
              "type": "string"
            }
          },
          "metadata": {},
          "execution_count": 132
        }
      ]
    },
    {
      "cell_type": "code",
      "source": [
        "#QUESTION 15.What is an abstract class in Python?\n",
        "\n",
        "'''\n",
        "In Python, an abstract class is a special kind of class that cannot be instantiated on its own. It acts as a blueprint for other classes (called subclasses or derived classes) but is not meant to be used to create objects directly.\n",
        "'''\n"
      ],
      "metadata": {
        "colab": {
          "base_uri": "https://localhost:8080/",
          "height": 54
        },
        "id": "p3UQ2bA9keYs",
        "outputId": "f147c3cb-65f3-46d3-8e91-b71446203ac0"
      },
      "execution_count": 133,
      "outputs": [
        {
          "output_type": "execute_result",
          "data": {
            "text/plain": [
              "'\\nIn Python, an abstract class is a special kind of class that cannot be instantiated on its own. It acts as a blueprint for other classes (called subclasses or derived classes) but is not meant to be used to create objects directly.\\n'"
            ],
            "application/vnd.google.colaboratory.intrinsic+json": {
              "type": "string"
            }
          },
          "metadata": {},
          "execution_count": 133
        }
      ]
    },
    {
      "cell_type": "code",
      "source": [
        "#QUESTION 16.What are the advantages of OOP?\n",
        "\n",
        "'''\n",
        "- Code Reusability: Through inheritance, you can reuse existing code and avoid redundancy.\n",
        "- Modularity: OOP allows you to break down complex problems into smaller, more manageable objects.\n",
        "- Data Encapsulation: Protecting data integrity by bundling data and methods that operate on that data within a class.\n",
        "- Flexibility and Maintainability: OOP makes code more adaptable to changes and easier to maintain over time.\n"
      ],
      "metadata": {
        "id": "kFktg1a6keoY"
      },
      "execution_count": 101,
      "outputs": []
    },
    {
      "cell_type": "code",
      "source": [
        "#QUESTION 17.What is the difference between a class variable and an instance variable?\n",
        "\n",
        "'''\n",
        "The main difference between a class variable and an instance variable is that a class variable is shared by all instances of a class, while an instance variable is unique to each instance.\n",
        "'''"
      ],
      "metadata": {
        "colab": {
          "base_uri": "https://localhost:8080/",
          "height": 54
        },
        "id": "4crdsxkvke4e",
        "outputId": "c00f1e43-dcd8-4f59-a12f-5a8dcec7683d"
      },
      "execution_count": 134,
      "outputs": [
        {
          "output_type": "execute_result",
          "data": {
            "text/plain": [
              "'\\nThe main difference between a class variable and an instance variable is that a class variable is shared by all instances of a class, while an instance variable is unique to each instance.\\n'"
            ],
            "application/vnd.google.colaboratory.intrinsic+json": {
              "type": "string"
            }
          },
          "metadata": {},
          "execution_count": 134
        }
      ]
    },
    {
      "cell_type": "code",
      "source": [
        "#QUESTION 18.What is multiple inheritance in Python?\n",
        "\n",
        "'''\n",
        "Multiple inheritance in Python allows a class to inherit from multiple parent classes. This means a subclass can inherit attributes and methods from several different superclasses, combining their functionalities.\n",
        "'''"
      ],
      "metadata": {
        "colab": {
          "base_uri": "https://localhost:8080/",
          "height": 54
        },
        "id": "rOl5uoSZkfIG",
        "outputId": "379c18be-803f-4e69-f21c-c47e3ba7d082"
      },
      "execution_count": 135,
      "outputs": [
        {
          "output_type": "execute_result",
          "data": {
            "text/plain": [
              "'\\nMultiple inheritance in Python allows a class to inherit from multiple parent classes. This means a subclass can inherit attributes and methods from several different superclasses, combining their functionalities.\\n'"
            ],
            "application/vnd.google.colaboratory.intrinsic+json": {
              "type": "string"
            }
          },
          "metadata": {},
          "execution_count": 135
        }
      ]
    },
    {
      "cell_type": "code",
      "source": [
        "#QUESTION 19.Explain the purpose of ‘’__str__’ and ‘__repr__’ ‘ methods in Python.\n",
        "\n",
        "'''\n",
        "__str__ Method:\n",
        "\n",
        "- The __str__ method is designed to provide a user-friendly, informal string representation of an object.\n",
        "- It's meant to be readable and understandable by anyone, not just developers.\n",
        "- When you use the print() function on an object, or cast it to a string using str(object), Python calls the __str__ method to get a string to display.\n",
        "\n",
        "__repr__ Method:\n",
        "\n",
        "The __repr__ method, on the other hand, is intended to provide a more formal, unambiguous representation of an object.\n",
        "It's primarily for developers and should ideally contain information that could be used to recreate the object.\n",
        "Python uses the __repr__ method when you type the object's name directly in the interactive interpreter or when you use the repr() function.\n",
        "'''\n"
      ],
      "metadata": {
        "colab": {
          "base_uri": "https://localhost:8080/",
          "height": 109
        },
        "id": "YcSEMaVZkfYc",
        "outputId": "2ce42464-111e-4b6d-891d-e2e55d287534"
      },
      "execution_count": 136,
      "outputs": [
        {
          "output_type": "execute_result",
          "data": {
            "text/plain": [
              "\"\\n__str__ Method:\\n\\n- The __str__ method is designed to provide a user-friendly, informal string representation of an object.\\n- It's meant to be readable and understandable by anyone, not just developers.\\n- When you use the print() function on an object, or cast it to a string using str(object), Python calls the __str__ method to get a string to display.\\n\\n__repr__ Method:\\n\\nThe __repr__ method, on the other hand, is intended to provide a more formal, unambiguous representation of an object.\\nIt's primarily for developers and should ideally contain information that could be used to recreate the object.\\nPython uses the __repr__ method when you type the object's name directly in the interactive interpreter or when you use the repr() function.\\n\""
            ],
            "application/vnd.google.colaboratory.intrinsic+json": {
              "type": "string"
            }
          },
          "metadata": {},
          "execution_count": 136
        }
      ]
    },
    {
      "cell_type": "code",
      "source": [
        "#QUESTION 20.What is the significance of the ‘super()’ function in Python?\n",
        "\n",
        "'''\n",
        "This is a built-in function in Python that is primarily used in the context of inheritance.\n",
        "'''"
      ],
      "metadata": {
        "colab": {
          "base_uri": "https://localhost:8080/",
          "height": 36
        },
        "id": "8VEhE3pdkfrt",
        "outputId": "30b78850-c8bc-47fc-9f47-98c0d8dd7981"
      },
      "execution_count": 137,
      "outputs": [
        {
          "output_type": "execute_result",
          "data": {
            "text/plain": [
              "'\\nThis is a built-in function in Python that is primarily used in the context of inheritance.\\n'"
            ],
            "application/vnd.google.colaboratory.intrinsic+json": {
              "type": "string"
            }
          },
          "metadata": {},
          "execution_count": 137
        }
      ]
    },
    {
      "cell_type": "code",
      "source": [
        "#QUESTION 21.What is the significance of the __del__ method in Python?\n",
        "\n",
        "'''\n",
        "In Python, the __del__ method is a special method, also known as a destructor. It's called when an object is about to be destroyed or garbage collected.\n",
        "'''\n"
      ],
      "metadata": {
        "colab": {
          "base_uri": "https://localhost:8080/",
          "height": 54
        },
        "id": "dIrcCWofkf6m",
        "outputId": "62bf3b06-4d19-4a1a-89a7-7d76cd70c65d"
      },
      "execution_count": 138,
      "outputs": [
        {
          "output_type": "execute_result",
          "data": {
            "text/plain": [
              "\"\\nIn Python, the __del__ method is a special method, also known as a destructor. It's called when an object is about to be destroyed or garbage collected.\\n\""
            ],
            "application/vnd.google.colaboratory.intrinsic+json": {
              "type": "string"
            }
          },
          "metadata": {},
          "execution_count": 138
        }
      ]
    },
    {
      "cell_type": "code",
      "source": [
        "#QUESTION 22.What is the difference between @staticmethod and @classmethod in Python?\n",
        "\n",
        "'''\n",
        "staticmethod: Creates a method that belongs to the class but doesn't need access to the class or its instances. Think of it as a regular function that happens to be grouped within the class for organizational purposes.\n",
        "@classmethod: Creates a method that receives the class itself (cls) as the first argument. This allows the method to work with the class itself, potentially creating or modifying class-level data.\n",
        "'''"
      ],
      "metadata": {
        "colab": {
          "base_uri": "https://localhost:8080/",
          "height": 72
        },
        "id": "jBttmwpSklYk",
        "outputId": "a2d03dd6-f0ab-46d8-bab5-c4e6e7acc419"
      },
      "execution_count": 139,
      "outputs": [
        {
          "output_type": "execute_result",
          "data": {
            "text/plain": [
              "\"\\nstaticmethod: Creates a method that belongs to the class but doesn't need access to the class or its instances. Think of it as a regular function that happens to be grouped within the class for organizational purposes.\\n@classmethod: Creates a method that receives the class itself (cls) as the first argument. This allows the method to work with the class itself, potentially creating or modifying class-level data.\\n\""
            ],
            "application/vnd.google.colaboratory.intrinsic+json": {
              "type": "string"
            }
          },
          "metadata": {},
          "execution_count": 139
        }
      ]
    },
    {
      "cell_type": "code",
      "source": [
        "#QUESTION 23.How does polymorphism work in Python with inheritance?\n",
        "\n",
        "'''\n",
        "Superclass defines a method: A superclass (parent class) has a method, let's call it speak().\n",
        "Subclasses inherit and override: Multiple subclasses inherit from the superclass and might override the speak() method with their own specific implementations.\n",
        "Calling the method on different objects: When you call the speak() method on objects of these different subclasses, the appropriate version of the method is executed based on the object's actual class. This is polymorphism in action – the same method call having different behaviors depending on the object type.\n",
        "'''\n"
      ],
      "metadata": {
        "colab": {
          "base_uri": "https://localhost:8080/",
          "height": 90
        },
        "id": "XnR0dWIPklrs",
        "outputId": "f4291b8e-a17b-488e-b9c2-64ce5b8973e2"
      },
      "execution_count": 140,
      "outputs": [
        {
          "output_type": "execute_result",
          "data": {
            "text/plain": [
              "\"\\nSuperclass defines a method: A superclass (parent class) has a method, let's call it speak().\\nSubclasses inherit and override: Multiple subclasses inherit from the superclass and might override the speak() method with their own specific implementations.\\nCalling the method on different objects: When you call the speak() method on objects of these different subclasses, the appropriate version of the method is executed based on the object's actual class. This is polymorphism in action – the same method call having different behaviors depending on the object type.\\n\""
            ],
            "application/vnd.google.colaboratory.intrinsic+json": {
              "type": "string"
            }
          },
          "metadata": {},
          "execution_count": 140
        }
      ]
    },
    {
      "cell_type": "code",
      "source": [
        "#QUESTION 24.What is method chaining in Python OOP?\n",
        "'''\n",
        "Method chaining is a technique in OOP that allows you to call multiple methods on an object sequentially in a single line of code. It improves code readability and conciseness.\n",
        "'''"
      ],
      "metadata": {
        "colab": {
          "base_uri": "https://localhost:8080/",
          "height": 54
        },
        "id": "D7SxhFuPkl_G",
        "outputId": "b98f6dd9-e21a-4488-dfa0-ac9f61421f58"
      },
      "execution_count": 141,
      "outputs": [
        {
          "output_type": "execute_result",
          "data": {
            "text/plain": [
              "'\\nMethod chaining is a technique in OOP that allows you to call multiple methods on an object sequentially in a single line of code. It improves code readability and conciseness.\\n'"
            ],
            "application/vnd.google.colaboratory.intrinsic+json": {
              "type": "string"
            }
          },
          "metadata": {},
          "execution_count": 141
        }
      ]
    },
    {
      "cell_type": "code",
      "source": [
        "#QUESTION 25.What is the purpose of the __call__ method in Python?\n",
        "\n",
        "'''\n",
        "In Python, the __call__ method is a special method (also known as a \"dunder\" method because of the double underscores). It allows you to make an object of a class callable – meaning you can use it like a function.\n",
        "'''"
      ],
      "metadata": {
        "colab": {
          "base_uri": "https://localhost:8080/",
          "height": 54
        },
        "id": "LLL7QYy-m9CF",
        "outputId": "0b57de1a-ecb3-405f-f335-b24e903167f8"
      },
      "execution_count": 142,
      "outputs": [
        {
          "output_type": "execute_result",
          "data": {
            "text/plain": [
              "'\\nIn Python, the __call__ method is a special method (also known as a \"dunder\" method because of the double underscores). It allows you to make an object of a class callable – meaning you can use it like a function.\\n'"
            ],
            "application/vnd.google.colaboratory.intrinsic+json": {
              "type": "string"
            }
          },
          "metadata": {},
          "execution_count": 142
        }
      ]
    },
    {
      "cell_type": "markdown",
      "source": [
        "PRACTICAL QUESTIONS\n"
      ],
      "metadata": {
        "id": "uuoQ1wGRkswI"
      }
    },
    {
      "cell_type": "code",
      "source": [
        "#QUESTION 1.Create a parent class Animal with a method speak() that prints a generic message. Create a child class Dog\n",
        "#           that overrides the speak() method to print \"Bark!\"\n",
        "\n",
        "class Animal:\n",
        "  def speak(self):\n",
        "    print(\"Animal speaking\")\n",
        "\n",
        "class Dog(Animal):\n",
        "  def speak(self):\n",
        "    print(\"Bark!\")\n",
        "\n",
        "dog = Dog()\n",
        "dog.speak()"
      ],
      "metadata": {
        "colab": {
          "base_uri": "https://localhost:8080/"
        },
        "id": "nfMvcZ2Zk0Ez",
        "outputId": "0cb36221-ae36-424d-dc83-89a19568cd43"
      },
      "execution_count": 144,
      "outputs": [
        {
          "output_type": "stream",
          "name": "stdout",
          "text": [
            "Bark!\n"
          ]
        }
      ]
    },
    {
      "cell_type": "code",
      "source": [
        "#QUESTION 2.Write a program to create an abstract class Shape with a method area(). Derive classes Circle and Rectangle\n",
        "#           from it and implement the area() method in both.\n",
        "\n",
        "class Shape:\n",
        "  def area(self):\n",
        "    pass\n",
        "\n",
        "class Circle(Shape):\n",
        "  def __init__(self, radius):\n",
        "    self.radius = radius\n",
        "\n",
        "  def area(self):\n",
        "    return 3.14*self.radius*self.radius\n",
        "\n",
        "class Rectangle(Shape):\n",
        "    def __init__(self, lenght, breath):\n",
        "      self.lenght = lenght\n",
        "      self.breath = breath\n",
        "\n",
        "    def area(self):\n",
        "      return self.lenght*self.breath\n",
        "\n",
        "circ = Circle(10)\n",
        "circ.area()\n"
      ],
      "metadata": {
        "colab": {
          "base_uri": "https://localhost:8080/"
        },
        "id": "PxDVDLsxk3vE",
        "outputId": "3c30d89a-ab8b-4f8d-809e-80964f347e41"
      },
      "execution_count": 154,
      "outputs": [
        {
          "output_type": "execute_result",
          "data": {
            "text/plain": [
              "314.0"
            ]
          },
          "metadata": {},
          "execution_count": 154
        }
      ]
    },
    {
      "cell_type": "code",
      "source": [
        "rect = Rectangle(10, 20)\n",
        "rect.area()"
      ],
      "metadata": {
        "colab": {
          "base_uri": "https://localhost:8080/"
        },
        "id": "xkmSjMdUHjlP",
        "outputId": "fcc67eb6-ac15-469c-e804-a62348dabb3c"
      },
      "execution_count": 155,
      "outputs": [
        {
          "output_type": "execute_result",
          "data": {
            "text/plain": [
              "200"
            ]
          },
          "metadata": {},
          "execution_count": 155
        }
      ]
    },
    {
      "cell_type": "code",
      "source": [
        "#QUESTION 3.Implement a multi-level inheritance scenario where a class Vehicle has an attribute type. Derive a class Car\n",
        "#           and further derive a class ElectricCar that adds a battery attribute.\n",
        "\n",
        "class Vehicle:\n",
        "  def __init__(self, type):\n",
        "    self.type = type\n",
        "\n",
        "class Car(Vehicle):\n",
        "  def __init__(self, type, model):\n",
        "    super().__init__(type)\n",
        "    self.model = model\n",
        "\n",
        "class ElectricCar(Car):\n",
        "  def __init__(self, type, model, battery):\n",
        "    super().__init__(type, model)\n",
        "    self.battery = battery\n",
        ""
      ],
      "metadata": {
        "id": "hzkZMCnAk4B1"
      },
      "execution_count": 157,
      "outputs": []
    },
    {
      "cell_type": "code",
      "source": [
        "#QUESTION 4.Implement a multi-level inheritance scenario where a class Vehicle has an attribute type. Derive a class Car\n",
        "#            and further derive a class ElectricCar that adds a battery attribute.\n",
        "\n",
        "class Vehicle:\n",
        "  def __init__(self, type):\n",
        "    self.type = type\n",
        "\n",
        "class Car(Vehicle):\n",
        "  def __init__(self, type, model):\n",
        "    super().__init__(type)\n",
        "    self.model = model\n",
        "\n",
        "class ElectricCar(Car):\n",
        "  def __init__(self, type, model, battery):\n",
        "    super().__init__(type, model)\n",
        "    self.battery = battery\n",
        ""
      ],
      "metadata": {
        "id": "uUcZYw7YlD-j"
      },
      "execution_count": 159,
      "outputs": []
    },
    {
      "cell_type": "code",
      "source": [
        "#QUESTION 5.Write a program to demonstrate encapsulation by creating a class BankAccount with private attributes\n",
        "#            balance and methods to deposit, withdraw, and check balance.\n",
        "\n",
        "class BankAccount:\n",
        "  def __init__(self, balance):\n",
        "    self.__balance = balance\n",
        "\n",
        "  def deposit(self, amount):\n",
        "    self.__balance += amount\n",
        "\n",
        "  def withdraw(self, amount):\n",
        "    if amount <= self.__balance:\n",
        "      self.__balance -= amount\n",
        "    else:\n",
        "      print(\"Insufficient balance\")\n",
        "\n",
        "\n"
      ],
      "metadata": {
        "id": "sSoQX5CdlY6c"
      },
      "execution_count": 160,
      "outputs": []
    },
    {
      "cell_type": "code",
      "source": [
        "#QUESTION 6.Demonstrate runtime polymorphism using a method play() in a base class Instrument. Derive classes Guitar\n",
        "#           and Piano that implement their own version of play().\n",
        "\n",
        "class Instrument:\n",
        "  def play(self):\n",
        "    pass\n",
        "\n",
        "class Guitar(Instrument):\n",
        "  def play(self):\n",
        "    print(\"Guitar is playing\")\n",
        "\n",
        "class Piano(Instrument):\n",
        "  def play(self):\n",
        "    print(\"Piano is playing\")\n",
        "\n",
        "git = Guitar()\n",
        "git.play()"
      ],
      "metadata": {
        "colab": {
          "base_uri": "https://localhost:8080/"
        },
        "id": "PHaODp1XleIT",
        "outputId": "702a6718-69b8-4e49-9e8d-7346718939d9"
      },
      "execution_count": 164,
      "outputs": [
        {
          "output_type": "stream",
          "name": "stdout",
          "text": [
            "Guitar is playing\n"
          ]
        }
      ]
    },
    {
      "cell_type": "code",
      "source": [
        "#QUESTION 7.Create a class MathOperations with a class method add_numbers() to add two numbers and a static\n",
        "#            method subtract_numbers() to subtract two numbers.\n",
        "\n",
        "class MathOperations:\n",
        "  @classmethod\n",
        "  def add_numbers(cls, a, b):\n",
        "    return a + b\n",
        "\n",
        "  @staticmethod\n",
        "  def subtract_numbers(a, b):\n",
        "    return a - b\n",
        "\n",
        "result = MathOperations.add_numbers(10, 20)\n",
        "print(result)"
      ],
      "metadata": {
        "colab": {
          "base_uri": "https://localhost:8080/"
        },
        "id": "b0znYuA0lebG",
        "outputId": "80740515-4b7a-40f4-e28f-86ce7827c241"
      },
      "execution_count": 169,
      "outputs": [
        {
          "output_type": "stream",
          "name": "stdout",
          "text": [
            "30\n"
          ]
        }
      ]
    },
    {
      "cell_type": "code",
      "source": [
        "#QUESTION 8.Implement a class Person with a class method to count the total number of persons created.\n",
        "\n",
        "class Person:\n",
        "  count = 0\n",
        "\n",
        "  def __init__(self, name):\n",
        "    self.name = name\n",
        "    Person.count += 1\n",
        "\n",
        "  @classmethod\n",
        "  def total_persons(cls):\n",
        "    return cls.count\n",
        "coun = Person.total_persons()\n",
        "print(coun)"
      ],
      "metadata": {
        "colab": {
          "base_uri": "https://localhost:8080/"
        },
        "id": "KjnH9taslfnD",
        "outputId": "63b976bf-8397-4067-9757-78c3c0ba146c"
      },
      "execution_count": 171,
      "outputs": [
        {
          "output_type": "stream",
          "name": "stdout",
          "text": [
            "0\n"
          ]
        }
      ]
    },
    {
      "cell_type": "code",
      "source": [
        "#QUESTION 9.Write a class Fraction with attributes numerator and denominator. Override the str method to display the\n",
        "#            fraction as \"numerator/denominator\".\n",
        "\n",
        "class Fraction:\n",
        "  def __init__(self, numerator, denominator):\n",
        "    self.numerator = numerator\n",
        "    self.denominator = denominator\n",
        "\n",
        "  def __str__(self):\n",
        "    return f\"{self.numerator}/{self.denominator}\"\n",
        "\n",
        "frac = Fraction(10, 20)\n",
        "print(frac)\n",
        "\n"
      ],
      "metadata": {
        "colab": {
          "base_uri": "https://localhost:8080/"
        },
        "id": "v5bor5gWlgA6",
        "outputId": "fd158630-51b5-462f-97e0-d9570597f861"
      },
      "execution_count": 182,
      "outputs": [
        {
          "output_type": "stream",
          "name": "stdout",
          "text": [
            "10/20\n"
          ]
        }
      ]
    },
    {
      "cell_type": "code",
      "source": [
        "#QUESTION 10.Demonstrate operator overloading by creating a class Vector and overriding the add method to add two\n",
        "#            vectors\n",
        "\n",
        "class Vector:\n",
        "  def __init__(self, x, y):\n",
        "    self.x = x\n",
        "    self.y = y\n",
        "\n",
        "  def __add__(self, other):\n",
        "    return Vector(self.x + other.x, self.y + other.y)\n",
        "vec = Vector(10, 20)\n",
        "vec2 = Vector(30, 40)\n",
        "vec3 = vec + vec2\n",
        "print(vec3.x, vec3.y)"
      ],
      "metadata": {
        "colab": {
          "base_uri": "https://localhost:8080/"
        },
        "id": "3DEFdjLJlgSL",
        "outputId": "5dcaf02c-5deb-4ed0-b8be-a0bff3001363"
      },
      "execution_count": 183,
      "outputs": [
        {
          "output_type": "stream",
          "name": "stdout",
          "text": [
            "40 60\n"
          ]
        }
      ]
    },
    {
      "cell_type": "code",
      "source": [
        "#QUESTION 11.Create a class Person with attributes name and age. Add a method greet() that prints \"Hello, my name is\n",
        "#            {name} and I am {age} years old.\"\n",
        "\n",
        "class Person:\n",
        "  def __init__(self, name, age):\n",
        "    self.name = name\n",
        "    self.age = age\n",
        "#QUESTION 11.Create a class Person with attributes name and age. Add a method greet() that prints \"Hello, my name is\n",
        "#            {name} and I am {age} years old.\"\n",
        "\n",
        "class Person:\n",
        "  def __init__(self, name, age):\n",
        "    self.name = name\n",
        "    self.age = age\n",
        "\n",
        "  def greet(self):\n",
        "    return(\"Hello, my name is \" + self.name + \" and I am \" + str(self.age) + \" years old.\")\n",
        "\n",
        "grr = Person(\"Somil\", 20)\n",
        "grr.greet()\n",
        "grr.greet()"
      ],
      "metadata": {
        "colab": {
          "base_uri": "https://localhost:8080/",
          "height": 36
        },
        "id": "vWDDQC1blgjD",
        "outputId": "072f24a5-f4bc-4c09-997c-9c5cbe2f9dc0"
      },
      "execution_count": 196,
      "outputs": [
        {
          "output_type": "execute_result",
          "data": {
            "text/plain": [
              "'Hello, my name is Somil and I am 20 years old.'"
            ],
            "application/vnd.google.colaboratory.intrinsic+json": {
              "type": "string"
            }
          },
          "metadata": {},
          "execution_count": 196
        }
      ]
    },
    {
      "cell_type": "code",
      "source": [
        "#QUESTION 12.Implement a class Student with attributes name and grades. Create a method average_grade() to compute\n",
        "#            the average of the grades.\n",
        "\n",
        "class Student:\n",
        "  def __init__(self, name, grades):\n",
        "    self.name = name\n",
        "    self.grades = grades\n",
        "\n",
        "  def average_grade(self):\n",
        "    return sum(self.grades)/len(self.grades)\n",
        "\n",
        "stud = Student(\"Somil\", [10, 20, 30, 40])\n",
        "stud.average_grade()"
      ],
      "metadata": {
        "colab": {
          "base_uri": "https://localhost:8080/"
        },
        "id": "TBU5ZkUclgyb",
        "outputId": "6179757d-c996-4c1d-981e-4dc4f91b1a48"
      },
      "execution_count": 197,
      "outputs": [
        {
          "output_type": "execute_result",
          "data": {
            "text/plain": [
              "25.0"
            ]
          },
          "metadata": {},
          "execution_count": 197
        }
      ]
    },
    {
      "cell_type": "code",
      "source": [
        "#QUESTION 13.Create a class Rectangle with methods set_dimensions() to set the dimensions and area() to calculate the\n",
        "#             area.\n",
        "\n",
        "class Rectangle:\n",
        "  def __init__(self, length, breadth):\n",
        "    self.length = length\n",
        "    self.breadth = breadth\n",
        "\n",
        "  def set_dimensions(self, length, breadth):\n",
        "    self.length = length\n",
        "    self.breadth = breadth\n",
        "\n",
        "\n",
        "  def area(self):\n",
        "    return self.length*self.breadth\n",
        "\n",
        "rect = Rectangle(5, 2)\n",
        "rect.area()"
      ],
      "metadata": {
        "colab": {
          "base_uri": "https://localhost:8080/"
        },
        "id": "r2joFq4BlhPf",
        "outputId": "4af733c6-a2c4-4374-f0d3-d9ed9580e82b"
      },
      "execution_count": 199,
      "outputs": [
        {
          "output_type": "execute_result",
          "data": {
            "text/plain": [
              "10"
            ]
          },
          "metadata": {},
          "execution_count": 199
        }
      ]
    },
    {
      "cell_type": "code",
      "source": [
        "#QUESTION 14.Create a class Employee with a method calculate_salary() that computes the salary based on hours worked\n",
        "#             and hourly rate. Create a derived class Manager that adds a bonus to the salary.\n",
        "\n",
        "class Employee:\n",
        "  def __init__(self, hours_worked, hourly_rate):\n",
        "    self.hours_worked = hours_worked\n",
        "    self.hourly_rate = hourly_rate\n",
        "\n",
        "  def calculate_salary(self):\n",
        "    return self.hours_worked*self.hourly_rate\n",
        "\n",
        "class Manager(Employee):\n",
        "  def __init__(self, hours_worked, hourly_rate, bonus):\n",
        "    super().__init__(hours_worked, hourly_rate)\n",
        "    self.bonus = bonus\n",
        "\n",
        "  def calculate_salary(self):\n",
        "    return super().calculate_salary() + self.bonus\n",
        "\n",
        "emp = Employee(100, 90)\n",
        "emp.calculate_salary()"
      ],
      "metadata": {
        "colab": {
          "base_uri": "https://localhost:8080/"
        },
        "id": "Gtli2iZBlhfl",
        "outputId": "420715ac-34c9-44a6-b164-b22c550db8ab"
      },
      "execution_count": 202,
      "outputs": [
        {
          "output_type": "execute_result",
          "data": {
            "text/plain": [
              "9000"
            ]
          },
          "metadata": {},
          "execution_count": 202
        }
      ]
    },
    {
      "cell_type": "code",
      "source": [
        "#QUESTION 15.Create a class Product with attributes name, price, and quantity. Implement a method total_price() that\n",
        "#             calculates the total price of the product.\n",
        "\n",
        "class Product:\n",
        "  def __init__(self, name, price, quantity):\n",
        "    self.name = name\n",
        "    self.price = price\n",
        "    self.quantity = quantity\n",
        "\n",
        "  def total_price(self):\n",
        "    return self.price*self.quantity\n",
        "\n",
        "prod = Product(\"Pen\", 15, 100)\n",
        "prod.total_price()\n"
      ],
      "metadata": {
        "colab": {
          "base_uri": "https://localhost:8080/"
        },
        "id": "pMSZcfr9lhws",
        "outputId": "f6d2a730-6300-47ce-cbf8-080ff753a375"
      },
      "execution_count": 203,
      "outputs": [
        {
          "output_type": "execute_result",
          "data": {
            "text/plain": [
              "1500"
            ]
          },
          "metadata": {},
          "execution_count": 203
        }
      ]
    },
    {
      "cell_type": "code",
      "source": [
        "#QUESTION 16.Create a class Animal with an abstract method sound(). Create two derived classes Cow and Sheep that\n",
        "#            implement the sound() method.\n",
        "\n",
        "class Animal:\n",
        "  def sound(self):\n",
        "    pass\n",
        "\n",
        "class Cow(Animal):\n",
        "  def sound(self):\n",
        "    return \"Moo\"\n",
        "\n",
        "class Sheep(Animal):\n",
        "  def sound(self):\n",
        "    return \"Baa\"\n",
        "\n",
        "cow = Cow()\n",
        "cow.sound()"
      ],
      "metadata": {
        "colab": {
          "base_uri": "https://localhost:8080/",
          "height": 36
        },
        "id": "JR-NdTX4liDU",
        "outputId": "a4a27052-8f58-488e-d0de-32ff0f145253"
      },
      "execution_count": 204,
      "outputs": [
        {
          "output_type": "execute_result",
          "data": {
            "text/plain": [
              "'Moo'"
            ],
            "application/vnd.google.colaboratory.intrinsic+json": {
              "type": "string"
            }
          },
          "metadata": {},
          "execution_count": 204
        }
      ]
    },
    {
      "cell_type": "code",
      "source": [
        "#QUESTION 17.Create a class Book with attributes title, author, and year_published. Add a method get_book_info() that\n",
        "#            returns a formatted string with the book's details.\n",
        "\n",
        "class Book:\n",
        "  def __init__(self, title, author, year_published):\n",
        "    self.title = title\n",
        "    self.author = author\n",
        "    self.year_published = year_published\n",
        "\n",
        "  def get_book_info(self):\n",
        "    return f\"{self.title} by {self.author} published in {self.year_published}\"\n",
        "\n",
        "order = Book(\"Harry Potter\", \"J.K. Rowling\", 1997)\n",
        "order.get_book_info()\n",
        "\n"
      ],
      "metadata": {
        "colab": {
          "base_uri": "https://localhost:8080/",
          "height": 36
        },
        "id": "YoaqKd-BliVk",
        "outputId": "5a5260ef-eec0-4bfb-a9c2-72e75c09de86"
      },
      "execution_count": 205,
      "outputs": [
        {
          "output_type": "execute_result",
          "data": {
            "text/plain": [
              "'Harry Potter by J.K. Rowling published in 1997'"
            ],
            "application/vnd.google.colaboratory.intrinsic+json": {
              "type": "string"
            }
          },
          "metadata": {},
          "execution_count": 205
        }
      ]
    },
    {
      "cell_type": "code",
      "source": [
        "#QUESTION 18.Create a class House with attributes address and price. Create a derived class Mansion that adds an\n",
        "#            attribute number_of_rooms.\n",
        "\n",
        "class House:\n",
        "  def __init__(self, address, price):\n",
        "    self.address = address\n",
        "    self.price = price\n",
        "\n",
        "class Mansion(House):\n",
        "  def __init__(self, address, price, number_of_rooms):\n",
        "    super().__init__(address, price)\n",
        "    self.number_of_rooms = number_of_rooms\n",
        "\n",
        "\n",
        "\n",
        "\n",
        ""
      ],
      "metadata": {
        "id": "FGXTbfe6likd"
      },
      "execution_count": 208,
      "outputs": []
    },
    {
      "cell_type": "code",
      "source": [],
      "metadata": {
        "id": "TncBvxRpr0JA"
      },
      "execution_count": null,
      "outputs": []
    }
  ]
}